{
 "cells": [
  {
   "cell_type": "markdown",
   "metadata": {},
   "source": [
    "## dCMF\n",
    "Example of running the \"dcmf\" module with the use provided parameters"
   ]
  },
  {
   "cell_type": "code",
   "execution_count": 1,
   "metadata": {},
   "outputs": [],
   "source": [
    "import sys\n",
    "sys.path.append(\"..\")"
   ]
  },
  {
   "cell_type": "code",
   "execution_count": 2,
   "metadata": {},
   "outputs": [],
   "source": [
    "import pprint\n",
    "import numpy as np\n",
    "import pickle as pkl\n",
    "import time\n",
    "import itertools\n",
    "import os"
   ]
  },
  {
   "cell_type": "code",
   "execution_count": 3,
   "metadata": {},
   "outputs": [],
   "source": [
    "from src.dcmf import dcmf"
   ]
  },
  {
   "cell_type": "markdown",
   "metadata": {},
   "source": [
    "## Loading the sample dataset\n",
    "\n",
    "This directory contains a sample synthetic dataset generated for the augmented setting of Fig 1(c) in the [paper](https://arxiv.org/abs/1811.11427).\n",
    "You can download the sample data from [here](https://drive.google.com/open?id=1EFF_kuOIg2aYyOGZY_peX3NziqCSxxP1) and unzip it to the data directory."
   ]
  },
  {
   "cell_type": "code",
   "execution_count": 4,
   "metadata": {},
   "outputs": [],
   "source": [
    "sample_no = 3\n",
    "data_dir = f\"../data/Polypharmacy/sample{sample_no}/\""
   ]
  },
  {
   "cell_type": "code",
   "execution_count": 5,
   "metadata": {},
   "outputs": [
    {
     "name": "stdout",
     "output_type": "stream",
     "text": [
      "Loading data from data_dir:  ../data/Polypharmacy/sample3/\n"
     ]
    }
   ],
   "source": [
    "#Loads the dataset into a dict\n",
    "#Note: This dataset contains 5-folds for the matrix X_12 (matrix R below)\n",
    "num_folds = 1\n",
    "#\n",
    "pp = pprint.PrettyPrinter()\n",
    "print(\"Loading data from data_dir: \",data_dir)\n",
    "U1 = pkl.load(open(data_dir+\"X_12.pkl\",'rb'))\n",
    "V1 = pkl.load(open(data_dir+\"X_22.pkl\",'rb'))\n",
    "# V1 = pkl.load(open(data_dir+\"X_26.pkl\",'rb'))\n",
    "# W1 = pkl.load(open(data_dir+\"X_53.pkl\",'rb'))\n",
    "R_temp_dict = {}\n",
    "for fold_num in np.arange(1,num_folds+1):\n",
    "    Rtrain = pkl.load(open(data_dir+'/X_11_train_fold_'+str(fold_num)+'.pkl','rb'))\n",
    "    Rtrain = Rtrain\n",
    "    Rtrain_idx = pkl.load(open(data_dir+'/X_11_train_idx_'+str(fold_num)+'.pkl','rb')) \n",
    "    Rtest = pkl.load(open(data_dir+'/X_11_test_fold_'+str(fold_num)+'.pkl','rb'))\n",
    "    Rtest_idx = pkl.load(open(data_dir+'/X_11_test_idx_'+str(fold_num)+'.pkl','rb'))\n",
    "    Rdoublets = pkl.load(open(data_dir+'/R_doublets_'+str(fold_num)+'.pkl','rb'))\n",
    "    R_temp_dict[fold_num] = {\"Rtrain\":Rtrain,\"Rtrain_idx\":Rtrain_idx,\"Rtest\":Rtest,\"Rtest_idx\":Rtest_idx,\"Rdoublets\":Rdoublets}\n",
    "#\n",
    "data_dict = {\"U1\":U1,\"V1\":V1,\"R\":R_temp_dict}"
   ]
  },
  {
   "cell_type": "code",
   "execution_count": 6,
   "metadata": {},
   "outputs": [
    {
     "name": "stdout",
     "output_type": "stream",
     "text": [
      "U1.shape:  (645, 837)\n",
      "V1.shape:  (837, 837)\n",
      "R.shape:  (645, 645)\n"
     ]
    }
   ],
   "source": [
    "print(\"U1.shape: \",U1.shape)\n",
    "print(\"V1.shape: \",V1.shape)\n",
    "print(\"R.shape: \",data_dict['R'][1]['Rtrain'].shape)"
   ]
  },
  {
   "cell_type": "markdown",
   "metadata": {},
   "source": [
    "## Building the required data structures\n",
    "\n",
    "Here we construct the data structures required as input to the dcmf API\n",
    "\n",
    "#### *entity matrix relationship graph *\n",
    "\n",
    "- **G**: dict, keys are entity IDs and values are lists of associated matrix IDs\n",
    "\n",
    "#### * training data*\n",
    "- **X_data**: dict, keys are matrix IDs and values are (1) np.array, or (2) dict, (if this matrix is in validation set **X_val**) with validation set IDs as keys & values as np.array\n",
    "- **X_meta**: dict, keys are matrix IDs and values are lists of the 2 associated entity IDs\n",
    "\n",
    "#### *validation data*\n",
    "- **X_val**: dict, keys are IDs of the matrices that are part of validation set and values are dict with validation set IDs as keys and values are (1) scipy.sparse matrix, or (2) list of triplets corresponding to the validation entries (if you would like to perform classification and measure AUC)  \n",
    "**Note**: To perform K folds cross validation, use K validation sets for the corresponsing matrix/matrices. In the example below, we used a single validation set with ID \"1\" for each of the matrices with IDs \"X1\" and \"X2\""
   ]
  },
  {
   "cell_type": "code",
   "execution_count": 7,
   "metadata": {},
   "outputs": [],
   "source": [
    "G = {\n",
    "    \"e1\":[\"X1\",\"X2\"],\\\n",
    "    \"e2\":[\"X2\",\"X3\"]}\n",
    "    #\"e6\":[\"X4\"]}"
   ]
  },
  {
   "cell_type": "code",
   "execution_count": 8,
   "metadata": {},
   "outputs": [],
   "source": [
    "X_data = {\n",
    "    \"X1\":{\"1\":data_dict['R'][1][\"Rtrain\"]},\\\n",
    "    \"X2\":{\"1\":U1},\\\n",
    "    \"X3\":V1}"
   ]
  },
  {
   "cell_type": "code",
   "execution_count": 9,
   "metadata": {},
   "outputs": [],
   "source": [
    "X_meta = {\n",
    "    \"X1\":[\"e1\",\"e1\"],\\\n",
    "    \"X2\":[\"e1\",\"e2\"],\\\n",
    "    \"X3\":[\"e2\",\"e2\"]}\n",
    "    #\"X5\":[\"e5\",\"e3\"]}"
   ]
  },
  {
   "cell_type": "code",
   "execution_count": 10,
   "metadata": {},
   "outputs": [],
   "source": [
    "# Rtest_triplets1 = [[1,1,1],[2,2,0]]\n",
    "# Rtest_triplets2 = [[1,1,1],[3,3,0],[1,2,0],[0,1,0],[0,2,0],[0,3,0]]\n",
    "Rtest_triplets1 = [[241, 208, 0], [111, 37, 1]]\n",
    "Rtest_triplets2 = [[1, 159, 1], [0, 0, 0]]"
   ]
  },
  {
   "cell_type": "code",
   "execution_count": 11,
   "metadata": {},
   "outputs": [],
   "source": [
    "X_val = {\n",
    "    \"X1\":{\"1\":Rtest_triplets1},\n",
    "    \"X2\":{\"1\":Rtest_triplets2}\n",
    "}"
   ]
  },
  {
   "cell_type": "markdown",
   "metadata": {},
   "source": [
    "#### *dCMF network construction - hyperparameters*\n",
    "\n",
    "- **kf**: float, in the range (0,1) \n",
    "- **k**: int, entity representation or encoding size. Refer Appendix A in the [paper](https://arxiv.org/abs/1811.11427) for info about how k and kf are used in the dCMF network construction. \n",
    "- **e_actf**: str, autoencoder's encoding activation function.\n",
    "- **d_actf**: str, autoencoder's decoding activation function. Supported functions are \"tanh\",\"sigma\",\"relu\",\"lrelu\"\n",
    "- **is_linear_last_enc_layer**: bool, True to set linear activation for the bottleneck/encoding generation layer \n",
    "- **is_linear_last_dec_layer**: bool, True to set linear activation for the output/decoding generation layer \n",
    "- **num_chunks**: int, number of training batches to create."
   ]
  },
  {
   "cell_type": "code",
   "execution_count": 12,
   "metadata": {},
   "outputs": [],
   "source": [
    "kf = 0.5\n",
    "k = 100\n",
    "e_actf = \"tanh\"\n",
    "d_actf = \"tanh\"\n",
    "is_linear_last_enc_layer = False\n",
    "is_linear_last_dec_layer = False\n",
    "num_chunks = 2"
   ]
  },
  {
   "cell_type": "markdown",
   "metadata": {},
   "source": [
    "#### *Optimization/training - hyperparamteres*\n",
    "\n",
    "- **learning_rate**: float, Adam optimizer's learning rate\n",
    "- **weight_decay**: float, Adam optimizers's weight decay (L2 penalty)\n",
    "- **max_epochs**: int, maximum number of training epochs at which the training stops \n",
    "- **convg_thres**: float, convergence threshold "
   ]
  },
  {
   "cell_type": "code",
   "execution_count": 13,
   "metadata": {},
   "outputs": [],
   "source": [
    "learning_rate = 0.001\n",
    "weight_decay = 0.05\n",
    "max_epochs = 5\n",
    "convg_thres = 0.1"
   ]
  },
  {
   "cell_type": "markdown",
   "metadata": {},
   "source": [
    "#### *Hyperparamteres related to pre-training*\n",
    "\n",
    "- **is_pretrain**: bool, True for pretraining \n",
    "- **pretrain_thres**: bool, pre-training convergence thresholsd\n",
    "- **max_pretrain_epochs**: int, maximum number of pre-training epochs at which the training stops"
   ]
  },
  {
   "cell_type": "code",
   "execution_count": 14,
   "metadata": {},
   "outputs": [],
   "source": [
    "is_pretrain=True\n",
    "pretrain_thres= 0.1\n",
    "max_pretrain_epochs = 2"
   ]
  },
  {
   "cell_type": "markdown",
   "metadata": {},
   "source": [
    "#### *Parameters related to validation*\n",
    "\n",
    "- **val_metric**: str, Validation performance metric. Supported metrics: [\"rmse\",\"r@k\",\"p@k\",\"auc\"]. Where,  \n",
    "     *rmse* - Root [mean square error](https://scikit-learn.org/stable/modules/generated/sklearn.metrics.mean_squared_error.html)  \n",
    "     *r@k* - Recall@k. Refer section 5.2's sub-section \"Evaluation metric\" in the [paper](https://arxiv.org/abs/1811.11427)      \n",
    "     *p@k* - Probability@k. Refer section 5.3's sub-section \"Evaluation metric\" in the [paper](https://arxiv.org/abs/1811.11427)      \n",
    "     *auc* - [Area under the curve](https://scikit-learn.org/stable/modules/generated/sklearn.metrics.roc_auc_score.html)\n",
    "    \n",
    "- **is_val_transpose**: bool, True if the reconstructed matrix has to be transposed before computing the validation performance\n",
    "- **at_k**: int, the value of k if the **val_metric** is either \"r@k\" or \"p@k\""
   ]
  },
  {
   "cell_type": "code",
   "execution_count": 15,
   "metadata": {},
   "outputs": [],
   "source": [
    "val_metric = \"auc\"\n",
    "is_val_transpose = True\n",
    "at_k = 10"
   ]
  },
  {
   "cell_type": "markdown",
   "metadata": {},
   "source": [
    "#### *GPU - parameters *\n",
    "\n",
    "- **is_gpu**: bool, True if pytorch tensors storage and operations has to be done in GPU\n",
    "- **gpu_ids**: str, Comma separated string of CUDA GPU ID"
   ]
  },
  {
   "cell_type": "code",
   "execution_count": 16,
   "metadata": {},
   "outputs": [],
   "source": [
    "is_gpu = False\n",
    "gpu_ids = \"1\""
   ]
  },
  {
   "cell_type": "markdown",
   "metadata": {},
   "source": [
    "#### *Instantiating the dCMF model...*\n",
    "- Initializes dCMF after validating the input data and the (hyper)parameters"
   ]
  },
  {
   "cell_type": "code",
   "execution_count": 17,
   "metadata": {
    "scrolled": false
   },
   "outputs": [
    {
     "name": "stdout",
     "output_type": "stream",
     "text": [
      "dcmf_base.__init__ - start\n",
      "dcmf_base.__init__ - end\n",
      "#\n",
      "dCMF:\n",
      "---\n",
      "#\n",
      "dCMF: \n",
      "#\n",
      "learning_rate:  0.001\n",
      "weight_decay:  0.05\n",
      "convg_thres:  0.1\n",
      "max_epochs:  5\n",
      "isPretrain:  True\n",
      "pretrain_thres:  0.1\n",
      "max_pretrain_epochs:  2\n",
      "num_chunks:  2\n",
      "k:  100\n",
      "kf:  0.5\n",
      "e_actf:  tanh\n",
      "d_actf:  tanh\n",
      "is_gpu:  False\n",
      "gpu_ids:  1\n",
      "num entities:  2\n",
      "num matrices:  3\n",
      "num_val_sets:  1\n",
      "X_val #matrices:  2\n",
      "val_metric (used only if X_val #matrices > 0):  auc\n",
      "at_k (used only if X_val #matrices > 0 and val_metric is r@k or p@k):  10\n",
      "is_val_transpose:  True\n",
      "is_linear_last_enc_layer:  False\n",
      "is_linear_last_dec_layer:  False\n",
      "#\n"
     ]
    }
   ],
   "source": [
    "dcmf_model = dcmf(G, X_data, X_meta,\\\n",
    "            num_chunks=num_chunks,k=k, kf=kf, e_actf=e_actf, d_actf=d_actf,\\\n",
    "            learning_rate=learning_rate, weight_decay=weight_decay, convg_thres=convg_thres, max_epochs=max_epochs,\\\n",
    "            is_gpu=is_gpu,gpu_ids=gpu_ids,is_pretrain=is_pretrain, pretrain_thres=pretrain_thres,\\\n",
    "            max_pretrain_epochs=max_pretrain_epochs,X_val=X_val,val_metric=val_metric,\\\n",
    "            is_val_transpose=is_val_transpose, at_k=at_k,\\\n",
    "            is_linear_last_enc_layer=is_linear_last_enc_layer,is_linear_last_dec_layer=is_linear_last_dec_layer,num_val_sets=num_folds)"
   ]
  },
  {
   "cell_type": "markdown",
   "metadata": {},
   "source": [
    "#### *Fitting... *\n",
    "- Performs the input transformation and network construction\n",
    "- (Pre-trains and) trains the model to obtain the entity representations\n",
    "- Reconstruct the input matrices using the entity representations obtained"
   ]
  },
  {
   "cell_type": "code",
   "execution_count": 18,
   "metadata": {
    "scrolled": false
   },
   "outputs": [
    {
     "name": "stdout",
     "output_type": "stream",
     "text": [
      "## fold_num:  1  ##\n",
      "dcmf_base.__init__ - start\n",
      "dcmf_base.__init__ - end\n",
      "#\n",
      "dCMF: \n",
      "#\n",
      "learning_rate:  0.001\n",
      "weight_decay:  0.05\n",
      "convg_thres:  0.1\n",
      "max_epochs:  5\n",
      "isPretrain:  True\n",
      "pretrain_thres:  0.1\n",
      "max_pretrain_epochs:  2\n",
      "num_chunks:  2\n",
      "k:  100\n",
      "kf:  0.5\n",
      "e_actf:  tanh\n",
      "d_actf:  tanh\n",
      "is_gpu:  False\n",
      "gpu_ids:  1\n",
      "num entities:  2\n",
      "num matrices:  3\n",
      "num_val_sets:  1\n",
      "X_val #matrices:  2\n",
      "val_metric (used only if X_val #matrices > 0):  auc\n",
      "at_k (used only if X_val #matrices > 0 and val_metric is r@k or p@k):  10\n",
      "is_val_transpose:  True\n",
      "is_linear_last_enc_layer:  False\n",
      "is_linear_last_dec_layer:  False\n",
      "#\n",
      "dcmf - model construction - start\n",
      "__input_transformation - start\n",
      "#\n",
      "concatenated-matrix construction...\n",
      "e_id:  e1\n",
      "X_id_list:  ['X1', 'X2']\n",
      "X_id:  X1\n",
      "X[X_id].shape:  (645, 645)\n",
      "X_id:  X2\n",
      "X[X_id].shape:  (645, 837)\n",
      "C_dict[e].shape:  torch.Size([645, 1482])\n",
      "---\n",
      "e_id:  e2\n",
      "X_id_list:  ['X2', 'X3']\n",
      "X_id:  X2\n",
      "X[X_id].shape:  (645, 837)\n",
      "X_id:  X3\n",
      "X[X_id].shape:  (837, 837)\n",
      "C_dict[e].shape:  torch.Size([837, 1482])\n",
      "---\n",
      "#\n",
      "concatenated-matrix chunking...\n",
      "#\n",
      "e_id:  e1 , min_num_datapoints:  645 , num_chunks:  2\n",
      "e_id:  e2 , min_features:  837 , k:  100\n",
      "#\n",
      "e_id:  e1  C_dict[e_id].shape:  torch.Size([645, 1482])\n",
      "C_temp_chunks_list[0].shape:  torch.Size([323, 1482])\n",
      "---\n",
      "e_id:  e2  C_dict[e_id].shape:  torch.Size([837, 1482])\n",
      "C_temp_chunks_list[0].shape:  torch.Size([419, 1482])\n",
      "---\n",
      "#\n",
      "creating pytorch variables of input matrices...\n",
      "#\n",
      "__input_transformation - end\n",
      "__network_construction - start\n",
      "__network_construction - end\n",
      "dcmf - model construction - end\n",
      "#\n",
      "__pretrain - start\n",
      "pretrain epoch:  1  total loss L:  0.3057044893503189  Took  3.1  secs.\n",
      "pretrain epoch:  2  total loss L:  0.3040878623723984  Took  4.3  secs.\n",
      "**pretrain converged**\n",
      "__pretrain - end\n",
      "#\n",
      "dcmf.fit - start\n",
      "epoch:  1  total loss L:  1.3918346166610718  Took  2.2  secs.\n",
      "epoch:  2  total loss L:  0.7534429728984833  Took  2.9  secs.\n",
      "epoch:  3  total loss L:  0.716279000043869  Took  2.1  secs.\n",
      "**train converged**\n",
      "Computing AUC.\n",
      "Rpred.shape:  (645, 645)\n",
      "Rtest_triplets.shape:  (2, 3)\n",
      "Computing AUC.\n",
      "Rpred.shape:  (837, 645)\n",
      "Rtest_triplets.shape:  (2, 3)\n",
      "#\n",
      "dcmf.fit - end\n"
     ]
    }
   ],
   "source": [
    "dcmf_model.fit()"
   ]
  },
  {
   "cell_type": "markdown",
   "metadata": {},
   "source": [
    "#### *Result attributes:*\n",
    "- **out_dict_U**:  dict, keys are validation set IDs and values are dict with entity IDs as keys and np.array of entity representations/encodings as values\n",
    "- **out_dict_X_prime**: dict, keys are matrix IDs and values are matrix reconstructions\n",
    "- **out_dict_info**: dict, keys are loss/validation performance attributes and values are corresponding results."
   ]
  },
  {
   "cell_type": "code",
   "execution_count": 19,
   "metadata": {},
   "outputs": [
    {
     "data": {
      "text/plain": [
       "dict_keys(['e1', 'e2'])"
      ]
     },
     "execution_count": 19,
     "metadata": {},
     "output_type": "execute_result"
    }
   ],
   "source": [
    "dcmf_model.out_dict_U['1'].keys()"
   ]
  },
  {
   "cell_type": "code",
   "execution_count": 20,
   "metadata": {
    "scrolled": false
   },
   "outputs": [
    {
     "data": {
      "text/plain": [
       "dict_keys(['X1', 'X2', 'X3'])"
      ]
     },
     "execution_count": 20,
     "metadata": {},
     "output_type": "execute_result"
    }
   ],
   "source": [
    "dcmf_model.out_dict_X_prime['1'].keys()"
   ]
  },
  {
   "cell_type": "code",
   "execution_count": 21,
   "metadata": {},
   "outputs": [
    {
     "data": {
      "text/plain": [
       "{'params': {'learning_rate': 0.001,\n",
       "  'weight_decay': 0.05,\n",
       "  'convg_thres': 0.1,\n",
       "  'max_epochs': 5,\n",
       "  'is_pretrain': True,\n",
       "  'pretrain_thres': 0.1,\n",
       "  'max_pretrain_epochs': 2,\n",
       "  'num_chunks': 2,\n",
       "  'k': 100,\n",
       "  'kf': 0.5,\n",
       "  'e_actf': 'tanh',\n",
       "  'd_actf': 'tanh',\n",
       "  'is_linear_last_enc_layer': False,\n",
       "  'is_linear_last_dec_layer': False},\n",
       " 'num_val_sets': 1,\n",
       " 'loss_all_folds': {'1': [0.24306784570217133,\n",
       "   0.05822769645601511,\n",
       "   0.28170935809612274,\n",
       "   0.05353531055152416,\n",
       "   0.07973881997168064]},\n",
       " 'loss_all_folds_avg_tuple': [0.24306784570217133,\n",
       "  0.05822769645601511,\n",
       "  0.28170935809612274,\n",
       "  0.05353531055152416,\n",
       "  0.07973881997168064],\n",
       " 'loss_all_folds_avg_sum': 0.716279030777514,\n",
       " 'val_metric': 'auc',\n",
       " 'val_perf_all_folds': {'1': {'X1': 1.0, 'X2': 0.0}},\n",
       " 'val_perf_all_folds_avg': {'X1': 1.0, 'X2': 0.0},\n",
       " 'val_perf_all_folds_total': {'1': 1.0},\n",
       " 'val_perf_all_folds_total_avg': 1.0,\n",
       " 'E': 2,\n",
       " 'M': 3}"
      ]
     },
     "execution_count": 21,
     "metadata": {},
     "output_type": "execute_result"
    }
   ],
   "source": [
    "dcmf_model.out_dict_info"
   ]
  },
  {
   "cell_type": "code",
   "execution_count": 22,
   "metadata": {},
   "outputs": [],
   "source": [
    "drug_emb = list(dcmf_model.out_dict_U['1'].values())[0].detach().numpy()\n",
    "protein_emb = list(dcmf_model.out_dict_U['1'].values())[1].detach().numpy()"
   ]
  },
  {
   "cell_type": "code",
   "execution_count": 23,
   "metadata": {},
   "outputs": [],
   "source": [
    "import pandas as pd"
   ]
  },
  {
   "cell_type": "code",
   "execution_count": 24,
   "metadata": {},
   "outputs": [
    {
     "data": {
      "text/html": [
       "<div>\n",
       "<style scoped>\n",
       "    .dataframe tbody tr th:only-of-type {\n",
       "        vertical-align: middle;\n",
       "    }\n",
       "\n",
       "    .dataframe tbody tr th {\n",
       "        vertical-align: top;\n",
       "    }\n",
       "\n",
       "    .dataframe thead th {\n",
       "        text-align: right;\n",
       "    }\n",
       "</style>\n",
       "<table border=\"1\" class=\"dataframe\">\n",
       "  <thead>\n",
       "    <tr style=\"text-align: right;\">\n",
       "      <th></th>\n",
       "      <th>0</th>\n",
       "      <th>1</th>\n",
       "      <th>2</th>\n",
       "      <th>3</th>\n",
       "      <th>4</th>\n",
       "      <th>5</th>\n",
       "      <th>6</th>\n",
       "      <th>7</th>\n",
       "      <th>8</th>\n",
       "      <th>9</th>\n",
       "      <th>...</th>\n",
       "      <th>90</th>\n",
       "      <th>91</th>\n",
       "      <th>92</th>\n",
       "      <th>93</th>\n",
       "      <th>94</th>\n",
       "      <th>95</th>\n",
       "      <th>96</th>\n",
       "      <th>97</th>\n",
       "      <th>98</th>\n",
       "      <th>99</th>\n",
       "    </tr>\n",
       "  </thead>\n",
       "  <tbody>\n",
       "    <tr>\n",
       "      <th>0</th>\n",
       "      <td>-0.032725</td>\n",
       "      <td>-0.066563</td>\n",
       "      <td>-0.005550</td>\n",
       "      <td>-0.021116</td>\n",
       "      <td>-0.004270</td>\n",
       "      <td>-0.006089</td>\n",
       "      <td>-0.073543</td>\n",
       "      <td>-0.007728</td>\n",
       "      <td>0.033146</td>\n",
       "      <td>0.049541</td>\n",
       "      <td>...</td>\n",
       "      <td>0.008882</td>\n",
       "      <td>0.046231</td>\n",
       "      <td>0.045813</td>\n",
       "      <td>-0.053337</td>\n",
       "      <td>0.062458</td>\n",
       "      <td>0.049581</td>\n",
       "      <td>0.034330</td>\n",
       "      <td>-0.000227</td>\n",
       "      <td>-0.045746</td>\n",
       "      <td>0.034527</td>\n",
       "    </tr>\n",
       "    <tr>\n",
       "      <th>1</th>\n",
       "      <td>-0.046697</td>\n",
       "      <td>-0.043965</td>\n",
       "      <td>0.017486</td>\n",
       "      <td>-0.019335</td>\n",
       "      <td>-0.002567</td>\n",
       "      <td>-0.024133</td>\n",
       "      <td>-0.067445</td>\n",
       "      <td>0.012660</td>\n",
       "      <td>0.035056</td>\n",
       "      <td>0.035366</td>\n",
       "      <td>...</td>\n",
       "      <td>0.018196</td>\n",
       "      <td>0.041177</td>\n",
       "      <td>0.039334</td>\n",
       "      <td>-0.044318</td>\n",
       "      <td>0.045463</td>\n",
       "      <td>0.025545</td>\n",
       "      <td>0.049202</td>\n",
       "      <td>0.000823</td>\n",
       "      <td>-0.038362</td>\n",
       "      <td>0.019681</td>\n",
       "    </tr>\n",
       "    <tr>\n",
       "      <th>2</th>\n",
       "      <td>-0.021999</td>\n",
       "      <td>-0.132681</td>\n",
       "      <td>-0.008762</td>\n",
       "      <td>-0.042748</td>\n",
       "      <td>-0.019589</td>\n",
       "      <td>-0.075033</td>\n",
       "      <td>-0.132914</td>\n",
       "      <td>0.005916</td>\n",
       "      <td>0.003201</td>\n",
       "      <td>0.049293</td>\n",
       "      <td>...</td>\n",
       "      <td>-0.015176</td>\n",
       "      <td>0.088349</td>\n",
       "      <td>0.074305</td>\n",
       "      <td>-0.060316</td>\n",
       "      <td>0.136529</td>\n",
       "      <td>0.038422</td>\n",
       "      <td>-0.004120</td>\n",
       "      <td>-0.041907</td>\n",
       "      <td>-0.089914</td>\n",
       "      <td>-0.001653</td>\n",
       "    </tr>\n",
       "    <tr>\n",
       "      <th>3</th>\n",
       "      <td>-0.058334</td>\n",
       "      <td>-0.032472</td>\n",
       "      <td>0.008695</td>\n",
       "      <td>-0.011285</td>\n",
       "      <td>-0.004759</td>\n",
       "      <td>-0.007067</td>\n",
       "      <td>-0.046322</td>\n",
       "      <td>0.025255</td>\n",
       "      <td>0.045424</td>\n",
       "      <td>0.050698</td>\n",
       "      <td>...</td>\n",
       "      <td>0.007130</td>\n",
       "      <td>0.038114</td>\n",
       "      <td>0.035892</td>\n",
       "      <td>-0.047891</td>\n",
       "      <td>0.040576</td>\n",
       "      <td>0.048087</td>\n",
       "      <td>0.053413</td>\n",
       "      <td>0.015304</td>\n",
       "      <td>-0.030066</td>\n",
       "      <td>0.023187</td>\n",
       "    </tr>\n",
       "    <tr>\n",
       "      <th>4</th>\n",
       "      <td>-0.029307</td>\n",
       "      <td>-0.066059</td>\n",
       "      <td>0.003879</td>\n",
       "      <td>-0.029705</td>\n",
       "      <td>-0.008513</td>\n",
       "      <td>-0.051460</td>\n",
       "      <td>-0.089139</td>\n",
       "      <td>-0.002922</td>\n",
       "      <td>0.013436</td>\n",
       "      <td>0.054816</td>\n",
       "      <td>...</td>\n",
       "      <td>0.013478</td>\n",
       "      <td>0.049914</td>\n",
       "      <td>0.044104</td>\n",
       "      <td>-0.035458</td>\n",
       "      <td>0.086094</td>\n",
       "      <td>0.047663</td>\n",
       "      <td>0.037057</td>\n",
       "      <td>-0.030735</td>\n",
       "      <td>-0.054160</td>\n",
       "      <td>0.024727</td>\n",
       "    </tr>\n",
       "  </tbody>\n",
       "</table>\n",
       "<p>5 rows × 100 columns</p>\n",
       "</div>"
      ],
      "text/plain": [
       "         0         1         2         3         4         5         6   \\\n",
       "0 -0.032725 -0.066563 -0.005550 -0.021116 -0.004270 -0.006089 -0.073543   \n",
       "1 -0.046697 -0.043965  0.017486 -0.019335 -0.002567 -0.024133 -0.067445   \n",
       "2 -0.021999 -0.132681 -0.008762 -0.042748 -0.019589 -0.075033 -0.132914   \n",
       "3 -0.058334 -0.032472  0.008695 -0.011285 -0.004759 -0.007067 -0.046322   \n",
       "4 -0.029307 -0.066059  0.003879 -0.029705 -0.008513 -0.051460 -0.089139   \n",
       "\n",
       "         7         8         9   ...        90        91        92        93  \\\n",
       "0 -0.007728  0.033146  0.049541  ...  0.008882  0.046231  0.045813 -0.053337   \n",
       "1  0.012660  0.035056  0.035366  ...  0.018196  0.041177  0.039334 -0.044318   \n",
       "2  0.005916  0.003201  0.049293  ... -0.015176  0.088349  0.074305 -0.060316   \n",
       "3  0.025255  0.045424  0.050698  ...  0.007130  0.038114  0.035892 -0.047891   \n",
       "4 -0.002922  0.013436  0.054816  ...  0.013478  0.049914  0.044104 -0.035458   \n",
       "\n",
       "         94        95        96        97        98        99  \n",
       "0  0.062458  0.049581  0.034330 -0.000227 -0.045746  0.034527  \n",
       "1  0.045463  0.025545  0.049202  0.000823 -0.038362  0.019681  \n",
       "2  0.136529  0.038422 -0.004120 -0.041907 -0.089914 -0.001653  \n",
       "3  0.040576  0.048087  0.053413  0.015304 -0.030066  0.023187  \n",
       "4  0.086094  0.047663  0.037057 -0.030735 -0.054160  0.024727  \n",
       "\n",
       "[5 rows x 100 columns]"
      ]
     },
     "execution_count": 24,
     "metadata": {},
     "output_type": "execute_result"
    }
   ],
   "source": [
    "drug_emb_df = pd.DataFrame(drug_emb)\n",
    "drug_emb_df.head()"
   ]
  },
  {
   "cell_type": "code",
   "execution_count": 25,
   "metadata": {},
   "outputs": [
    {
     "data": {
      "text/plain": [
       "(645, 100)"
      ]
     },
     "execution_count": 25,
     "metadata": {},
     "output_type": "execute_result"
    }
   ],
   "source": [
    "drug_emb_df.shape"
   ]
  },
  {
   "cell_type": "code",
   "execution_count": 26,
   "metadata": {},
   "outputs": [
    {
     "data": {
      "text/html": [
       "<div>\n",
       "<style scoped>\n",
       "    .dataframe tbody tr th:only-of-type {\n",
       "        vertical-align: middle;\n",
       "    }\n",
       "\n",
       "    .dataframe tbody tr th {\n",
       "        vertical-align: top;\n",
       "    }\n",
       "\n",
       "    .dataframe thead th {\n",
       "        text-align: right;\n",
       "    }\n",
       "</style>\n",
       "<table border=\"1\" class=\"dataframe\">\n",
       "  <thead>\n",
       "    <tr style=\"text-align: right;\">\n",
       "      <th></th>\n",
       "      <th>0</th>\n",
       "      <th>1</th>\n",
       "      <th>2</th>\n",
       "      <th>3</th>\n",
       "      <th>4</th>\n",
       "      <th>5</th>\n",
       "      <th>6</th>\n",
       "      <th>7</th>\n",
       "      <th>8</th>\n",
       "      <th>9</th>\n",
       "      <th>...</th>\n",
       "      <th>90</th>\n",
       "      <th>91</th>\n",
       "      <th>92</th>\n",
       "      <th>93</th>\n",
       "      <th>94</th>\n",
       "      <th>95</th>\n",
       "      <th>96</th>\n",
       "      <th>97</th>\n",
       "      <th>98</th>\n",
       "      <th>99</th>\n",
       "    </tr>\n",
       "  </thead>\n",
       "  <tbody>\n",
       "    <tr>\n",
       "      <th>0</th>\n",
       "      <td>-0.034884</td>\n",
       "      <td>-0.041900</td>\n",
       "      <td>0.014441</td>\n",
       "      <td>-0.028866</td>\n",
       "      <td>0.024075</td>\n",
       "      <td>-0.050213</td>\n",
       "      <td>-0.055515</td>\n",
       "      <td>-0.003073</td>\n",
       "      <td>-0.039138</td>\n",
       "      <td>-0.050598</td>\n",
       "      <td>...</td>\n",
       "      <td>-0.000543</td>\n",
       "      <td>-0.001204</td>\n",
       "      <td>0.024938</td>\n",
       "      <td>0.000515</td>\n",
       "      <td>-0.032049</td>\n",
       "      <td>-0.025672</td>\n",
       "      <td>0.014274</td>\n",
       "      <td>0.061299</td>\n",
       "      <td>-0.048068</td>\n",
       "      <td>0.007866</td>\n",
       "    </tr>\n",
       "    <tr>\n",
       "      <th>1</th>\n",
       "      <td>-0.028947</td>\n",
       "      <td>-0.044060</td>\n",
       "      <td>0.015945</td>\n",
       "      <td>-0.026450</td>\n",
       "      <td>0.020862</td>\n",
       "      <td>-0.043119</td>\n",
       "      <td>-0.061352</td>\n",
       "      <td>-0.004587</td>\n",
       "      <td>-0.039323</td>\n",
       "      <td>-0.054134</td>\n",
       "      <td>...</td>\n",
       "      <td>0.000107</td>\n",
       "      <td>-0.000914</td>\n",
       "      <td>0.025148</td>\n",
       "      <td>0.002490</td>\n",
       "      <td>-0.033825</td>\n",
       "      <td>-0.028532</td>\n",
       "      <td>0.012723</td>\n",
       "      <td>0.056688</td>\n",
       "      <td>-0.049348</td>\n",
       "      <td>0.008641</td>\n",
       "    </tr>\n",
       "    <tr>\n",
       "      <th>2</th>\n",
       "      <td>-0.022945</td>\n",
       "      <td>-0.039050</td>\n",
       "      <td>0.018115</td>\n",
       "      <td>-0.025355</td>\n",
       "      <td>0.028407</td>\n",
       "      <td>-0.050784</td>\n",
       "      <td>-0.041365</td>\n",
       "      <td>-0.009819</td>\n",
       "      <td>-0.028312</td>\n",
       "      <td>-0.043993</td>\n",
       "      <td>...</td>\n",
       "      <td>-0.004336</td>\n",
       "      <td>0.004620</td>\n",
       "      <td>0.028203</td>\n",
       "      <td>-0.004753</td>\n",
       "      <td>-0.031010</td>\n",
       "      <td>-0.035759</td>\n",
       "      <td>0.019421</td>\n",
       "      <td>0.060457</td>\n",
       "      <td>-0.053165</td>\n",
       "      <td>-0.002401</td>\n",
       "    </tr>\n",
       "    <tr>\n",
       "      <th>3</th>\n",
       "      <td>-0.032037</td>\n",
       "      <td>-0.043101</td>\n",
       "      <td>0.017195</td>\n",
       "      <td>-0.026225</td>\n",
       "      <td>0.030205</td>\n",
       "      <td>-0.044417</td>\n",
       "      <td>-0.054503</td>\n",
       "      <td>-0.003304</td>\n",
       "      <td>-0.040402</td>\n",
       "      <td>-0.049562</td>\n",
       "      <td>...</td>\n",
       "      <td>0.000485</td>\n",
       "      <td>-0.002409</td>\n",
       "      <td>0.024773</td>\n",
       "      <td>0.000728</td>\n",
       "      <td>-0.034464</td>\n",
       "      <td>-0.028689</td>\n",
       "      <td>0.014303</td>\n",
       "      <td>0.056698</td>\n",
       "      <td>-0.049923</td>\n",
       "      <td>0.006563</td>\n",
       "    </tr>\n",
       "    <tr>\n",
       "      <th>4</th>\n",
       "      <td>-0.032398</td>\n",
       "      <td>-0.045110</td>\n",
       "      <td>0.014065</td>\n",
       "      <td>-0.025320</td>\n",
       "      <td>0.024967</td>\n",
       "      <td>-0.045400</td>\n",
       "      <td>-0.057338</td>\n",
       "      <td>-0.002656</td>\n",
       "      <td>-0.041043</td>\n",
       "      <td>-0.051630</td>\n",
       "      <td>...</td>\n",
       "      <td>-0.001580</td>\n",
       "      <td>-0.004056</td>\n",
       "      <td>0.024718</td>\n",
       "      <td>-0.001951</td>\n",
       "      <td>-0.034214</td>\n",
       "      <td>-0.026462</td>\n",
       "      <td>0.018331</td>\n",
       "      <td>0.058531</td>\n",
       "      <td>-0.045523</td>\n",
       "      <td>0.009722</td>\n",
       "    </tr>\n",
       "  </tbody>\n",
       "</table>\n",
       "<p>5 rows × 100 columns</p>\n",
       "</div>"
      ],
      "text/plain": [
       "         0         1         2         3         4         5         6   \\\n",
       "0 -0.034884 -0.041900  0.014441 -0.028866  0.024075 -0.050213 -0.055515   \n",
       "1 -0.028947 -0.044060  0.015945 -0.026450  0.020862 -0.043119 -0.061352   \n",
       "2 -0.022945 -0.039050  0.018115 -0.025355  0.028407 -0.050784 -0.041365   \n",
       "3 -0.032037 -0.043101  0.017195 -0.026225  0.030205 -0.044417 -0.054503   \n",
       "4 -0.032398 -0.045110  0.014065 -0.025320  0.024967 -0.045400 -0.057338   \n",
       "\n",
       "         7         8         9   ...        90        91        92        93  \\\n",
       "0 -0.003073 -0.039138 -0.050598  ... -0.000543 -0.001204  0.024938  0.000515   \n",
       "1 -0.004587 -0.039323 -0.054134  ...  0.000107 -0.000914  0.025148  0.002490   \n",
       "2 -0.009819 -0.028312 -0.043993  ... -0.004336  0.004620  0.028203 -0.004753   \n",
       "3 -0.003304 -0.040402 -0.049562  ...  0.000485 -0.002409  0.024773  0.000728   \n",
       "4 -0.002656 -0.041043 -0.051630  ... -0.001580 -0.004056  0.024718 -0.001951   \n",
       "\n",
       "         94        95        96        97        98        99  \n",
       "0 -0.032049 -0.025672  0.014274  0.061299 -0.048068  0.007866  \n",
       "1 -0.033825 -0.028532  0.012723  0.056688 -0.049348  0.008641  \n",
       "2 -0.031010 -0.035759  0.019421  0.060457 -0.053165 -0.002401  \n",
       "3 -0.034464 -0.028689  0.014303  0.056698 -0.049923  0.006563  \n",
       "4 -0.034214 -0.026462  0.018331  0.058531 -0.045523  0.009722  \n",
       "\n",
       "[5 rows x 100 columns]"
      ]
     },
     "execution_count": 26,
     "metadata": {},
     "output_type": "execute_result"
    }
   ],
   "source": [
    "prot_emb_df = pd.DataFrame(protein_emb)\n",
    "prot_emb_df.head()"
   ]
  },
  {
   "cell_type": "code",
   "execution_count": 27,
   "metadata": {},
   "outputs": [
    {
     "data": {
      "text/plain": [
       "(837, 100)"
      ]
     },
     "execution_count": 27,
     "metadata": {},
     "output_type": "execute_result"
    }
   ],
   "source": [
    "prot_emb_df.shape"
   ]
  },
  {
   "cell_type": "code",
   "execution_count": 28,
   "metadata": {},
   "outputs": [
    {
     "data": {
      "text/plain": [
       "(1482, 100)"
      ]
     },
     "execution_count": 28,
     "metadata": {},
     "output_type": "execute_result"
    }
   ],
   "source": [
    "emb_df = pd.concat([drug_emb_df, prot_emb_df], ignore_index = True, axis = 0)\n",
    "emb_df.shape"
   ]
  },
  {
   "cell_type": "code",
   "execution_count": 29,
   "metadata": {},
   "outputs": [
    {
     "data": {
      "text/html": [
       "<div>\n",
       "<style scoped>\n",
       "    .dataframe tbody tr th:only-of-type {\n",
       "        vertical-align: middle;\n",
       "    }\n",
       "\n",
       "    .dataframe tbody tr th {\n",
       "        vertical-align: top;\n",
       "    }\n",
       "\n",
       "    .dataframe thead th {\n",
       "        text-align: right;\n",
       "    }\n",
       "</style>\n",
       "<table border=\"1\" class=\"dataframe\">\n",
       "  <thead>\n",
       "    <tr style=\"text-align: right;\">\n",
       "      <th></th>\n",
       "      <th>0</th>\n",
       "      <th>1</th>\n",
       "      <th>2</th>\n",
       "      <th>3</th>\n",
       "      <th>4</th>\n",
       "      <th>5</th>\n",
       "      <th>6</th>\n",
       "      <th>7</th>\n",
       "      <th>8</th>\n",
       "      <th>9</th>\n",
       "      <th>...</th>\n",
       "      <th>90</th>\n",
       "      <th>91</th>\n",
       "      <th>92</th>\n",
       "      <th>93</th>\n",
       "      <th>94</th>\n",
       "      <th>95</th>\n",
       "      <th>96</th>\n",
       "      <th>97</th>\n",
       "      <th>98</th>\n",
       "      <th>99</th>\n",
       "    </tr>\n",
       "  </thead>\n",
       "  <tbody>\n",
       "    <tr>\n",
       "      <th>0</th>\n",
       "      <td>-0.032725</td>\n",
       "      <td>-0.066563</td>\n",
       "      <td>-0.005550</td>\n",
       "      <td>-0.021116</td>\n",
       "      <td>-0.004270</td>\n",
       "      <td>-0.006089</td>\n",
       "      <td>-0.073543</td>\n",
       "      <td>-0.007728</td>\n",
       "      <td>0.033146</td>\n",
       "      <td>0.049541</td>\n",
       "      <td>...</td>\n",
       "      <td>0.008882</td>\n",
       "      <td>0.046231</td>\n",
       "      <td>0.045813</td>\n",
       "      <td>-0.053337</td>\n",
       "      <td>0.062458</td>\n",
       "      <td>0.049581</td>\n",
       "      <td>0.034330</td>\n",
       "      <td>-0.000227</td>\n",
       "      <td>-0.045746</td>\n",
       "      <td>0.034527</td>\n",
       "    </tr>\n",
       "    <tr>\n",
       "      <th>1</th>\n",
       "      <td>-0.046697</td>\n",
       "      <td>-0.043965</td>\n",
       "      <td>0.017486</td>\n",
       "      <td>-0.019335</td>\n",
       "      <td>-0.002567</td>\n",
       "      <td>-0.024133</td>\n",
       "      <td>-0.067445</td>\n",
       "      <td>0.012660</td>\n",
       "      <td>0.035056</td>\n",
       "      <td>0.035366</td>\n",
       "      <td>...</td>\n",
       "      <td>0.018196</td>\n",
       "      <td>0.041177</td>\n",
       "      <td>0.039334</td>\n",
       "      <td>-0.044318</td>\n",
       "      <td>0.045463</td>\n",
       "      <td>0.025545</td>\n",
       "      <td>0.049202</td>\n",
       "      <td>0.000823</td>\n",
       "      <td>-0.038362</td>\n",
       "      <td>0.019681</td>\n",
       "    </tr>\n",
       "    <tr>\n",
       "      <th>2</th>\n",
       "      <td>-0.021999</td>\n",
       "      <td>-0.132681</td>\n",
       "      <td>-0.008762</td>\n",
       "      <td>-0.042748</td>\n",
       "      <td>-0.019589</td>\n",
       "      <td>-0.075033</td>\n",
       "      <td>-0.132914</td>\n",
       "      <td>0.005916</td>\n",
       "      <td>0.003201</td>\n",
       "      <td>0.049293</td>\n",
       "      <td>...</td>\n",
       "      <td>-0.015176</td>\n",
       "      <td>0.088349</td>\n",
       "      <td>0.074305</td>\n",
       "      <td>-0.060316</td>\n",
       "      <td>0.136529</td>\n",
       "      <td>0.038422</td>\n",
       "      <td>-0.004120</td>\n",
       "      <td>-0.041907</td>\n",
       "      <td>-0.089914</td>\n",
       "      <td>-0.001653</td>\n",
       "    </tr>\n",
       "    <tr>\n",
       "      <th>3</th>\n",
       "      <td>-0.058334</td>\n",
       "      <td>-0.032472</td>\n",
       "      <td>0.008695</td>\n",
       "      <td>-0.011285</td>\n",
       "      <td>-0.004759</td>\n",
       "      <td>-0.007067</td>\n",
       "      <td>-0.046322</td>\n",
       "      <td>0.025255</td>\n",
       "      <td>0.045424</td>\n",
       "      <td>0.050698</td>\n",
       "      <td>...</td>\n",
       "      <td>0.007130</td>\n",
       "      <td>0.038114</td>\n",
       "      <td>0.035892</td>\n",
       "      <td>-0.047891</td>\n",
       "      <td>0.040576</td>\n",
       "      <td>0.048087</td>\n",
       "      <td>0.053413</td>\n",
       "      <td>0.015304</td>\n",
       "      <td>-0.030066</td>\n",
       "      <td>0.023187</td>\n",
       "    </tr>\n",
       "    <tr>\n",
       "      <th>4</th>\n",
       "      <td>-0.029307</td>\n",
       "      <td>-0.066059</td>\n",
       "      <td>0.003879</td>\n",
       "      <td>-0.029705</td>\n",
       "      <td>-0.008513</td>\n",
       "      <td>-0.051460</td>\n",
       "      <td>-0.089139</td>\n",
       "      <td>-0.002922</td>\n",
       "      <td>0.013436</td>\n",
       "      <td>0.054816</td>\n",
       "      <td>...</td>\n",
       "      <td>0.013478</td>\n",
       "      <td>0.049914</td>\n",
       "      <td>0.044104</td>\n",
       "      <td>-0.035458</td>\n",
       "      <td>0.086094</td>\n",
       "      <td>0.047663</td>\n",
       "      <td>0.037057</td>\n",
       "      <td>-0.030735</td>\n",
       "      <td>-0.054160</td>\n",
       "      <td>0.024727</td>\n",
       "    </tr>\n",
       "  </tbody>\n",
       "</table>\n",
       "<p>5 rows × 100 columns</p>\n",
       "</div>"
      ],
      "text/plain": [
       "         0         1         2         3         4         5         6   \\\n",
       "0 -0.032725 -0.066563 -0.005550 -0.021116 -0.004270 -0.006089 -0.073543   \n",
       "1 -0.046697 -0.043965  0.017486 -0.019335 -0.002567 -0.024133 -0.067445   \n",
       "2 -0.021999 -0.132681 -0.008762 -0.042748 -0.019589 -0.075033 -0.132914   \n",
       "3 -0.058334 -0.032472  0.008695 -0.011285 -0.004759 -0.007067 -0.046322   \n",
       "4 -0.029307 -0.066059  0.003879 -0.029705 -0.008513 -0.051460 -0.089139   \n",
       "\n",
       "         7         8         9   ...        90        91        92        93  \\\n",
       "0 -0.007728  0.033146  0.049541  ...  0.008882  0.046231  0.045813 -0.053337   \n",
       "1  0.012660  0.035056  0.035366  ...  0.018196  0.041177  0.039334 -0.044318   \n",
       "2  0.005916  0.003201  0.049293  ... -0.015176  0.088349  0.074305 -0.060316   \n",
       "3  0.025255  0.045424  0.050698  ...  0.007130  0.038114  0.035892 -0.047891   \n",
       "4 -0.002922  0.013436  0.054816  ...  0.013478  0.049914  0.044104 -0.035458   \n",
       "\n",
       "         94        95        96        97        98        99  \n",
       "0  0.062458  0.049581  0.034330 -0.000227 -0.045746  0.034527  \n",
       "1  0.045463  0.025545  0.049202  0.000823 -0.038362  0.019681  \n",
       "2  0.136529  0.038422 -0.004120 -0.041907 -0.089914 -0.001653  \n",
       "3  0.040576  0.048087  0.053413  0.015304 -0.030066  0.023187  \n",
       "4  0.086094  0.047663  0.037057 -0.030735 -0.054160  0.024727  \n",
       "\n",
       "[5 rows x 100 columns]"
      ]
     },
     "execution_count": 29,
     "metadata": {},
     "output_type": "execute_result"
    }
   ],
   "source": [
    "emb_df.head()"
   ]
  },
  {
   "cell_type": "code",
   "execution_count": 30,
   "metadata": {},
   "outputs": [],
   "source": [
    "with open(f\"emb_Polypharmacy_sample_{sample_no}.dat\", \"w\") as file:\n",
    "    file.write(\"\\n\")\n",
    "    for idx, row in emb_df.iterrows():\n",
    "        emb = row[:].astype(np.float32)\n",
    "        emb_str = ' '.join(emb.astype(str))\n",
    "        file.write(f'{idx}\\t{emb_str}\\n')\n",
    "    "
   ]
  },
  {
   "cell_type": "code",
   "execution_count": null,
   "metadata": {},
   "outputs": [],
   "source": []
  }
 ],
 "metadata": {
  "kernelspec": {
   "display_name": "Python 3",
   "language": "python",
   "name": "python3"
  },
  "language_info": {
   "codemirror_mode": {
    "name": "ipython",
    "version": 3
   },
   "file_extension": ".py",
   "mimetype": "text/x-python",
   "name": "python",
   "nbconvert_exporter": "python",
   "pygments_lexer": "ipython3",
   "version": "3.6.13"
  }
 },
 "nbformat": 4,
 "nbformat_minor": 2
}
